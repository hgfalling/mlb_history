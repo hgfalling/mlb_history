{
 "cells": [
  {
   "cell_type": "code",
   "execution_count": 1,
   "id": "2d7a7158",
   "metadata": {},
   "outputs": [],
   "source": [
    "%matplotlib inline\n",
    "import matplotlib.pyplot as plt\n",
    "\n",
    "import pandas as pd\n",
    "import glob\n",
    "pd.options.display.max_rows = 200\n",
    "pd.options.display.max_columns = 50\n",
    "\n",
    "GL_DIR = \"c:/users/matho/python/baseball/retrosheet/game_logs\"\n",
    "\n",
    "gldf = pd.read_hdf(GL_DIR + \"/all_game_logs.h5\",\"game_logs_df\")\n",
    "\n",
    "gldf['FULL_INNINGS'] = gldf['OUTS_CT'] // 6\n",
    "gldf['AWAY_OUTS'] = gldf.FULL_INNINGS * 3 + ((gldf['OUTS_CT'] - gldf.FULL_INNINGS * 6 ) % 6).clip(0,3)\n",
    "gldf['HOME_OUTS'] = gldf.OUTS_CT - gldf.AWAY_OUTS\n",
    "\n",
    "gldf['HOME_WIN'] = 1*(gldf.HOME_SCORE_CT > gldf.AWAY_SCORE_CT)\n",
    "gldf['AWAY_WIN'] = 1*(gldf.HOME_SCORE_CT <= gldf.AWAY_SCORE_CT)\n",
    "gldf['ZERO'] = 0\n",
    "pfadf = gldf[['YEAR','GAME_ID','AWAY_TEAM_ID','AWAY_SCORE_CT','HOME_SCORE_CT','ZERO','ZERO','AWAY_WIN','HOME_WIN','ZERO','ZERO','AWAY_OUTS','HOME_OUTS','ZERO','ZERO']]\n",
    "pfhdf = gldf[['YEAR','GAME_ID','HOME_TEAM_ID','ZERO','ZERO','HOME_SCORE_CT','AWAY_SCORE_CT','ZERO','ZERO','HOME_WIN','AWAY_WIN','ZERO','ZERO','HOME_OUTS','AWAY_OUTS']]\n",
    "pfadf.columns = ['YEAR','GAME_ID','TEAM_ID','RS_AWAY','RA_AWAY','RS_HOME','RA_HOME','AWAY_WIN','AWAY_LOSS','HOME_WIN','HOME_LOSS','AWAY_BAT_OUTS','AWAY_PIT_OUTS','HOME_BAT_OUTS','HOME_PIT_OUTS']\n",
    "pfhdf.columns = ['YEAR','GAME_ID','TEAM_ID','RS_AWAY','RA_AWAY','RS_HOME','RA_HOME','AWAY_WIN','AWAY_LOSS','HOME_WIN','HOME_LOSS','AWAY_BAT_OUTS','AWAY_PIT_OUTS','HOME_BAT_OUTS','HOME_PIT_OUTS']\n",
    "pfdf = pd.concat([pfadf,pfhdf],axis=0)\n",
    "\n",
    "pftdf = pfdf.groupby(['YEAR',\"TEAM_ID\"]).sum()\n",
    "\n",
    "pftdf['TOTAL_RUNS_HOME'] = pftdf.RS_HOME + pftdf.RA_HOME\n",
    "pftdf['TOTAL_RUNS_AWAY'] = pftdf.RS_AWAY + pftdf.RA_AWAY\n",
    "\n",
    "pftdf['RAW_PF'] = (pftdf.TOTAL_RUNS_HOME)/(pftdf.TOTAL_RUNS_AWAY)\n",
    "\n",
    "pftdf['HOME_WIN_PCT'] = (pftdf.HOME_WIN)/(pftdf.HOME_WIN + pftdf.HOME_LOSS)\n",
    "pftdf['AWAY_WIN_PCT'] = (pftdf.AWAY_WIN)/(pftdf.AWAY_WIN + pftdf.AWAY_LOSS)\n",
    "\n",
    "pftdf['BR_IPC'] = (18.5 - pftdf.HOME_WIN_PCT)/(18.5 - (1 - pftdf.AWAY_WIN_PCT))\n",
    "pftdf['BR_IPC_PF'] = pftdf.RAW_PF / pftdf.BR_IPC\n",
    "\n",
    "pftdf['IPC'] = (pftdf.HOME_BAT_OUTS + pftdf.HOME_PIT_OUTS)/(pftdf.AWAY_BAT_OUTS + pftdf.AWAY_PIT_OUTS)\n",
    "pftdf['IPC_PF'] = pftdf.RAW_PF / pftdf.IPC\n"
   ]
  },
  {
   "cell_type": "code",
   "execution_count": 12,
   "id": "f4c20d4c",
   "metadata": {},
   "outputs": [],
   "source": [
    "current_teams = [x for x in pftdf.reset_index().query('YEAR == 2021').TEAM_ID.unique()]"
   ]
  },
  {
   "cell_type": "code",
   "execution_count": 51,
   "id": "031c67b5",
   "metadata": {},
   "outputs": [
    {
     "data": {
      "text/plain": [
       "YEAR\n",
       "1901    0.875967\n",
       "1902    1.006320\n",
       "1903    1.221185\n",
       "1904    1.123874\n",
       "1905    1.018704\n",
       "1906    1.012164\n",
       "1907    1.016318\n",
       "1908    0.939524\n",
       "1909    1.210398\n",
       "1910    0.995811\n",
       "1911    0.938066\n",
       "1912    1.121650\n",
       "1913    1.068440\n",
       "1914    0.896706\n",
       "1915    0.891725\n",
       "1916    0.805567\n",
       "1917    1.151642\n",
       "1918    1.057634\n",
       "1919    0.736710\n",
       "1920    0.867192\n",
       "1921    0.949984\n",
       "1922    0.830315\n",
       "1923    1.085912\n",
       "1924    1.053963\n",
       "1925    0.905402\n",
       "1926    1.058001\n",
       "1927    0.932578\n",
       "1928    0.892994\n",
       "1929    1.052671\n",
       "1930    0.801983\n",
       "1931    0.938978\n",
       "1932    0.958691\n",
       "1933    0.962051\n",
       "1934    1.147085\n",
       "1935    1.221357\n",
       "1936    1.071515\n",
       "1937    0.978357\n",
       "1938    1.036488\n",
       "1939    1.165699\n",
       "1940    1.104110\n",
       "1941    1.067614\n",
       "1942    1.088416\n",
       "1943    1.064316\n",
       "1944    0.979021\n",
       "1945    0.902203\n",
       "1946    1.327769\n",
       "1947    1.270536\n",
       "1948    1.022109\n",
       "1949    1.130998\n",
       "1950    1.367213\n",
       "1951    1.129151\n",
       "1952    1.169361\n",
       "1953    1.156475\n",
       "1954    1.071636\n",
       "1955    1.603913\n",
       "1956    1.088046\n",
       "1957    1.241194\n",
       "1958    1.124448\n",
       "1959    1.146374\n",
       "1960    1.119512\n",
       "1961    1.065248\n",
       "1962    1.037584\n",
       "1963    1.133805\n",
       "1964    1.090937\n",
       "1965    1.223186\n",
       "1966    1.245923\n",
       "1967    1.341693\n",
       "1968    1.041844\n",
       "1969    1.129647\n",
       "1970    1.252566\n",
       "1971    1.108568\n",
       "1972    1.163716\n",
       "1973    1.117410\n",
       "1974    1.142734\n",
       "1975    1.229247\n",
       "1976    1.235465\n",
       "1977    1.363785\n",
       "1978    1.169654\n",
       "1979    1.149470\n",
       "1980    1.078642\n",
       "1981    1.111014\n",
       "1982    1.221205\n",
       "1983    1.034555\n",
       "1984    1.236853\n",
       "1985    1.031757\n",
       "1986    0.993913\n",
       "1987    0.963990\n",
       "1988    1.196088\n",
       "1989    1.109067\n",
       "1990    1.098991\n",
       "1991    1.090521\n",
       "1992    1.110719\n",
       "1993    1.202995\n",
       "1994    1.341170\n",
       "1995    1.017664\n",
       "1996    1.133299\n",
       "1997    0.986327\n",
       "1998    1.008856\n",
       "1999    1.109865\n",
       "2000    1.017203\n",
       "2001    1.029142\n",
       "2002    0.974414\n",
       "2003    1.110294\n",
       "2004    1.132940\n",
       "2005    1.037142\n",
       "2006    1.034418\n",
       "2007    1.189341\n",
       "2008    1.087375\n",
       "2009    1.082571\n",
       "2010    1.088630\n",
       "2011    1.179767\n",
       "2012    1.196419\n",
       "2013    0.970363\n",
       "2014    1.064875\n",
       "2015    1.188786\n",
       "2016    1.208511\n",
       "2017    1.034992\n",
       "2018    1.097950\n",
       "2019    1.065430\n",
       "2020    1.258080\n",
       "2021    1.244501\n",
       "Name: BOS, dtype: float64"
      ]
     },
     "execution_count": 51,
     "metadata": {},
     "output_type": "execute_result"
    }
   ],
   "source": [
    "pftdf.loc[(slice(1901,2022),[x for x in current_teams]),:].BR_IPC_PF.unstack(1)[\"BOS\"]"
   ]
  },
  {
   "cell_type": "code",
   "execution_count": 17,
   "id": "0074c90b",
   "metadata": {},
   "outputs": [],
   "source": [
    "pfdf = pftdf.reset_index()"
   ]
  },
  {
   "cell_type": "code",
   "execution_count": 27,
   "id": "0cc28665",
   "metadata": {},
   "outputs": [
    {
     "data": {
      "text/plain": [
       "<AxesSubplot:xlabel='YEAR'>"
      ]
     },
     "execution_count": 27,
     "metadata": {},
     "output_type": "execute_result"
    },
    {
     "data": {
      "image/png": "[encoded data removed]",
      "text/plain": [
       "<Figure size 432x288 with 1 Axes>"
      ]
     },
     "metadata": {
      "needs_background": "light"
     },
     "output_type": "display_data"
    }
   ],
   "source": [
    "pfdf[ & (pfdf.YEAR >= 1901)][['YEAR','TEAM_ID','IPC_PF']].set_index(\"TEAM_ID\").plot(x='YEAR',y='IPC_PF')"
   ]
  },
  {
   "cell_type": "code",
   "execution_count": null,
   "id": "b08288c7",
   "metadata": {},
   "outputs": [],
   "source": []
  }
 ],
 "metadata": {
  "kernelspec": {
   "display_name": "Python 3 (ipykernel)",
   "language": "python",
   "name": "python3"
  },
  "language_info": {
   "codemirror_mode": {
    "name": "ipython",
    "version": 3
   },
   "file_extension": ".py",
   "mimetype": "text/x-python",
   "name": "python",
   "nbconvert_exporter": "python",
   "pygments_lexer": "ipython3",
   "version": "3.8.12"
  }
 },
 "nbformat": 4,
 "nbformat_minor": 5
}
